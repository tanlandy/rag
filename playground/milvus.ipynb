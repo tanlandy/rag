{
 "cells": [
  {
   "cell_type": "markdown",
   "id": "bff1d8c95d35b858",
   "metadata": {
    "collapsed": false
   },
   "source": [
    "## 1. connect to Milvus"
   ]
  },
  {
   "cell_type": "code",
   "execution_count": 2,
   "id": "46b0704c",
   "metadata": {},
   "outputs": [],
   "source": [
    "from pymilvus import (\n",
    "    connections,\n",
    "    utility,\n",
    "    FieldSchema,\n",
    "    CollectionSchema,\n",
    "    DataType,\n",
    "    Collection,\n",
    ")"
   ]
  },
  {
   "cell_type": "code",
   "execution_count": 3,
   "id": "5df13a96947c38d4",
   "metadata": {
    "ExecuteTime": {
     "end_time": "2024-01-31T01:31:07.913040Z",
     "start_time": "2024-01-31T01:31:07.890223Z"
    },
    "collapsed": false
   },
   "outputs": [],
   "source": [
    "connections.connect(\"default\", host=\"localhost\", port=\"19530\")"
   ]
  },
  {
   "cell_type": "code",
   "execution_count": 4,
   "id": "d44caf7c3ca42992",
   "metadata": {
    "ExecuteTime": {
     "end_time": "2024-01-31T02:14:25.676387Z",
     "start_time": "2024-01-31T02:14:25.664910Z"
    },
    "collapsed": false
   },
   "outputs": [
    {
     "name": "stdout",
     "output_type": "stream",
     "text": [
      "Does collection hello_rag_v1 exist in Milvus: True\n"
     ]
    }
   ],
   "source": [
    "has = utility.has_collection(\"hello_rag_v1\")\n",
    "print(f\"Does collection hello_rag_v1 exist in Milvus: {has}\")"
   ]
  },
  {
   "cell_type": "markdown",
   "id": "388ac249aea3e1a9",
   "metadata": {
    "collapsed": false
   },
   "source": [
    "## 2. create collection\n",
    "We're going to create a collection with 3 fields.\n",
    "\n",
    "|   | field name   | field type  | other attributes              | field description         |\n",
    "|---|--------------|-------------|-------------------------------|---------------------------|\n",
    "| 1 | \"pk\"         | VarChar     | is_primary=True auto_id=False | \"primary field\"           |\n",
    "| 2 | \"text\"       | VarChar     |                               | \"original text\"           |\n",
    "| 3 | \"embeddings\" | FloatVector | dim=384                       | \"float vector with dim 384\" |\n"
   ]
  },
  {
   "cell_type": "code",
   "execution_count": 18,
   "id": "6e72b9384a3cee8b",
   "metadata": {
    "ExecuteTime": {
     "end_time": "2024-01-31T01:40:14.848285Z",
     "start_time": "2024-01-31T01:40:14.828914Z"
    },
    "collapsed": false
   },
   "outputs": [],
   "source": [
    "dim = 384\n",
    "fields = [\n",
    "    FieldSchema(name=\"pk\", dtype=DataType.VARCHAR, is_primary=True, auto_id=False, max_length=100),\n",
    "    FieldSchema(name=\"text\", dtype=DataType.VARCHAR, description=\"this is the original text field\", max_length=5000), \n",
    "    FieldSchema(name=\"embeddings\", dtype=DataType.FLOAT_VECTOR, dim=dim)\n",
    "]\n",
    "\n",
    "schema = CollectionSchema(fields, description=\"hello_rag_v1 is the demo to introduce the usage of RAG\")\n",
    "hello_rag_v1 = Collection(\"hello_rag_v1\", schema, consistency_level=\"Strong\")\n"
   ]
  },
  {
   "cell_type": "code",
   "execution_count": 6,
   "id": "0af08b8f",
   "metadata": {},
   "outputs": [],
   "source": [
    "hello_rag_v1 = Collection(\"hello_rag_v1\")"
   ]
  },
  {
   "cell_type": "markdown",
   "id": "e00de218d84080bb",
   "metadata": {
    "collapsed": false
   },
   "source": [
    "## 3. insert data\n",
    "We are going to insert data of  into `hello_rag`\n",
    "Data to be inserted must be organized in fields.\n",
    "\n",
    "The insert() method returns:\n",
    "- either automatically generated primary keys by Milvus if auto_id=True in the schema;\n",
    "- or the existing primary key field from the entities if auto_id=False in the schema."
   ]
  },
  {
   "cell_type": "markdown",
   "id": "844ef92c2b094713",
   "metadata": {
    "collapsed": false
   },
   "source": [
    "### 3.1 generate entities from grammar book"
   ]
  },
  {
   "cell_type": "code",
   "execution_count": 10,
   "id": "11958f5780236795",
   "metadata": {
    "collapsed": false
   },
   "outputs": [
    {
     "name": "stderr",
     "output_type": "stream",
     "text": [
      "/opt/conda/envs/rag/lib/python3.9/site-packages/tqdm/auto.py:21: TqdmWarning: IProgress not found. Please update jupyter and ipywidgets. See https://ipywidgets.readthedocs.io/en/stable/user_install.html\n",
      "  from .autonotebook import tqdm as notebook_tqdm\n"
     ]
    }
   ],
   "source": [
    "from sentence_transformers import SentenceTransformer\n",
    "embedding_model_name = \"/data/remote_dev/lin/all-MiniLM-L6-v2-sentence-transformer-model\"  # dim = 384, loaded from local on the server GPU1\n",
    "embedding_model = SentenceTransformer(embedding_model_name)\n",
    "\n",
    "# sentences = [\"This is an example sentence\", \"Each sentence is converted\"]\n",
    "# embeddings = embedding_model.encode(sentences)\n",
    "# for sentence, embedding in zip(sentences, embeddings):\n",
    "#     print(\"Sentence:\", sentence)\n",
    "#     print(\"Embedding:\", embedding)\n",
    "#     print(\"\")\n"
   ]
  },
  {
   "cell_type": "code",
   "execution_count": 10,
   "id": "2f735ef4",
   "metadata": {},
   "outputs": [
    {
     "name": "stdout",
     "output_type": "stream",
     "text": [
      "Current directory: /data/remote_dev/lin/rag\n",
      "File path: /data/remote_dev/lin/rag/grammar_book/虚拟语气在从句中的用法.pdf\n"
     ]
    }
   ],
   "source": [
    "import os\n",
    "from os.path import dirname, join\n",
    "current_dir = os.getcwd()\n",
    "file_path = join(current_dir, \"grammar_book/虚拟语气在从句中的用法.pdf\")\n",
    "print(\"Current directory:\", current_dir)\n",
    "print(\"File path:\", file_path)"
   ]
  },
  {
   "cell_type": "code",
   "execution_count": 20,
   "id": "a87bc18c92f9aa32",
   "metadata": {
    "ExecuteTime": {
     "end_time": "2024-01-31T07:14:48.693774Z",
     "start_time": "2024-01-31T07:14:48.629363Z"
    },
    "collapsed": false
   },
   "outputs": [
    {
     "name": "stdout",
     "output_type": "stream",
     "text": [
      "[\"虚拟语⽓在从句中的⽤法.md 2024-01-31 虚拟语⽓在从句中的⽤法 1. 主语从句中的⽤法 (1) 在以it为形式主语的复合句中，虚拟语⽓在主语从句中表示建议、要求、命令等，谓语动词⽤should be型或be型虚拟式，在 美国英语中常⽤be型虚拟式。如： It's natural that she should do so. 她这么做是很⾃然的事。 It is essential that we should tell her the news. 我们有必要告诉她这个消息。\", '她这么做是很⾃然的事。 It is essential that we should tell her the news. 我们有必要告诉她这个消息。 It is important that we should make full use of our mineral resources. 对我们来说，充分利⽤我国的矿产资源是重要的。 It is strange that the result of the experiment should be unsatisfactory. 奇怪的是实验结果竟然如此令⼈不满意。', 'It is strange that the result of the experiment should be unsatisfactory. 奇怪的是实验结果竟然如此令⼈不满意。 It is desired that we should get everything ready by tonight. 希望⼀切在今晚准备好。 It was arranged that Mr Sam should go and help Bettie. 他们作了安排，由萨姆先⽣去帮助⻉蒂。', '希望⼀切在今晚准备好。 It was arranged that Mr Sam should go and help Bettie. 他们作了安排，由萨姆先⽣去帮助⻉蒂。 (2) 主句的谓语为某些动词的被动语态，常⽤在It is (was) desired (suggested，settled，proposed， recommended， requested，decided，etc. ) that. . . 句型中。 It is suggested that the question should be discussed at the next meeting.', 'that. . . 句型中。 It is suggested that the question should be discussed at the next meeting. 有⼈建议在下次会上讨论这个问题。 It is vital that he should be warned before it is too late. 在还不太晚的时候警告他是⾮常必要的。 It has been decided that the sports meet should be postponed till next Friday. 已决定运动会延期到下星期五。', 'It has been decided that the sports meet should be postponed till next Friday. 已决定运动会延期到下星期五。 It was requested that a vote (should) be taken. 2. 在宾语从句中的⽤法 2024-01-31 虚拟语⽓在从句中的⽤法.md (1) wish的宾语从句中的谓语动词形式 ① 动词的过去式表示对现在情况的假设。如： I wish prices would come down. 我真希望物价会下降。', '虚拟语⽓在从句中的⽤法.md (1) wish的宾语从句中的谓语动词形式 ① 动词的过去式表示对现在情况的假设。如： I wish prices would come down. 我真希望物价会下降。 I wish you would stop asking silly questions. 我希望你不要再问这种愚蠢的问题。 I wish I knew his address. 可惜我不知道他的地址。 I wish we could go with him. 我们要是能跟他⼀起去该多好。 ② had+过去分词表示对过去情况的假设。如： I wish I had known it before.', \"I wish we could go with him. 我们要是能跟他⼀起去该多好。 ② had+过去分词表示对过去情况的假设。如： I wish I had known it before. 我真希望我预先知道这件事。 He wishes he hadn't been rude to his parents. 他真希望他没有对⽗⺟⽆礼。 She wished that she had stayed at home. 她想那时要是留在家⾥就好了。 I wish I could have been there yesterday. 要是我昨天到过那⾥该多好。\", '她想那时要是留在家⾥就好了。 I wish I could have been there yesterday. 要是我昨天到过那⾥该多好。 (2) would rather等的宾语从句中的谓语动词形式 ⽤would rather (=would sooner )和would( just)as soon(=would sooner )等表示愿望，但其宾语从句常⽤虚拟过去式。如： I would rather you came tomorrow than today. 我宁愿你明天来，⽽不是今天。', 'I would rather you came tomorrow than today. 我宁愿你明天来，⽽不是今天。 I could do it myself but I would sooner you did it. 我⾃⼰也可以做，但我宁愿你去做。 I would rather you had told me the truth. 我倒想你本该把事实真相告诉我。 虚拟语⽓在从句中的⽤法.md (3) suggest等的宾语从句中的谓语动词形式 2024-01-31', '我倒想你本该把事实真相告诉我。 虚拟语⽓在从句中的⽤法.md (3) suggest等的宾语从句中的谓语动词形式 2024-01-31 ① ⽤should＋ 动词原形或只⽤动词原形的that 从句，作为 dem and,  order,  propose,  request,  require,  suggest,  ar range,  insist,  com m and, desire,  advocate,  m aintain,  urge,  direct,  m ove,  prefer,  ar range,  recom m end 等词的宾语。如：', 'desire,  advocate,  m aintain,  urge,  direct,  m ove,  prefer,  ar range,  recom m end 等词的宾语。如： The expert proposed that TV should be turned off at least one four every day. 专家提议每天⾄少应该关掉电视⼀个⼩时。 The board recommended that the company should invest in the new property. 董事会建议公司投资新的房地产。', 'The board recommended that the company should invest in the new property. 董事会建议公司投资新的房地产。 The committee has given instructions that the manager should fly to New York. 委员会已发出指示，要经理⻜往纽约。 Secretary of War Edwin M. Stanton ordered that James Van Metre should be released. 陆军部⻓埃德温·Ｍ·斯坦顿命令将詹姆斯·范·⽶特释放。', '陆军部⻓埃德温·Ｍ·斯坦顿命令将詹姆斯·范·⽶特释放。 He asked that the arrangements be made to help them finish the work. 他要求做好安排，帮他们完成⼯作。 Experiments demand that accurate measurements be made. 实验要求做到准确的计量。 She insisted that we take up the matter at the meeting. 她坚持要求我们在会上谈这个问题。', '实验要求做到准确的计量。 She insisted that we take up the matter at the meeting. 她坚持要求我们在会上谈这个问题。 ② 有些动词，如think,  expect,  believe 其否定式的宾语从句亦可⽤should ＋ 动词原形。如： I never thought he should refuse. 我万没想到他会拒绝。 I had not expected that things should turn out like this. 我没料到事情的结果竟是这样。 3. 在表语从句中的⽤法', '我万没想到他会拒绝。 I had not expected that things should turn out like this. 我没料到事情的结果竟是这样。 3. 在表语从句中的⽤法 虚拟语⽓也可⽤在表语从句中。这种从句由that（可省略）所引导，其谓语是 should ＋动词原形。句 ⼦主句中的主语常常是suggestion, proposal, idea, motion, order, recommendations, plan, impossibility, possibility等名词。如：', 'impossibility, possibility等名词。如： His suggestion was that everyone should have map. 他的建议是每⼈发⼀张地图。 My idea is that the electronic device should be tested at once. 虚拟语⽓在从句中的⽤法.md 我的意⻅是这⼀电⼦器件要⽴即试验。 2024-01-31 在主句中作主语的名词常⻅的有： advice， aim， desire， idea， insistence， motion，', '我的意⻅是这⼀电⼦器件要⽴即试验。 2024-01-31 在主句中作主语的名词常⻅的有： advice， aim， desire， idea， insistence， motion， necessity， order， plan， proposal， recommendation， regulation，requirement， suggestion， wish等。 4. 虚拟语⽓在同位语从句中的⽤法 当与同位语从句同位的是suggestion等表示建议、计划、命令等的名词时，从句的谓语动词⽤ should+动词原形，美国英语中常⽤动词原形。', '4. 虚拟语⽓在同位语从句中的⽤法 当与同位语从句同位的是suggestion等表示建议、计划、命令等的名词时，从句的谓语动词⽤ should+动词原形，美国英语中常⽤动词原形。 They made the request that the problem should be discussed as soon as possible. 他们要求尽快讨论这个问题。 He gave orders that the work should be started at once. 他命令⼯作⻢上开始。', '他们要求尽快讨论这个问题。 He gave orders that the work should be started at once. 他命令⼯作⻢上开始。 The proposal that he (should) be dismissed was supported at the meeting. ⼤会对开除他的提议表示了⽀持。 5. 虚拟语⽓在状语从句中的⽤法 (1) 虚拟语⽓在让步状语从句中的⽤法 ① 由连接词whether,  if,  even if/though,  whatever,  so long as 引导的状语从句，其谓语可⽤虚拟语⽓，即其谓语⽤动词原形。如：', '① 由连接词whether,  if,  even if/though,  whatever,  so long as 引导的状语从句，其谓语可⽤虚拟语⽓，即其谓语⽤动词原形。如： Whether the figures be accurate or not, they have to be rechecked. 不管那些数字准确与否，都得重新核对。 The earth is powerful magnet and all magnets behave the same whether they be large or small. 地球是⼀个强⼤的磁体，⽽所有的磁体⽆论⼤⼩其作⽤都是⼀样的。', \"地球是⼀个强⼤的磁体，⽽所有的磁体⽆论⼤⼩其作⽤都是⼀样的。 They have decided to build a reservoir, whatever the difficulties may be. 他们决⼼建造⼀座⽔库，不管有多少困难。 I won't let you in whoever you may be. ⽆论你是谁我都不让进去。 However hard the task may be, we must fulfill it on time. 不管任务多么艰巨，我们必须按时完成。\", '⽆论你是谁我都不让进去。 However hard the task may be, we must fulfill it on time. 不管任务多么艰巨，我们必须按时完成。 If the defendant be found guilty, he shall have the right of appeal. 如果被告被判有罪，他有权上诉。 ② 倒装的让步状语从句中的虚拟语⽓。如： 虚拟语⽓在从句中的⽤法.md Come what may，we will go ahead. 不管怎样，我们⼀定要前进。', '如果被告被判有罪，他有权上诉。 ② 倒装的让步状语从句中的虚拟语⽓。如： 虚拟语⽓在从句中的⽤法.md Come what may，we will go ahead. 不管怎样，我们⼀定要前进。 However hard it may rain，we shall have to go. ⽆论⾬多⼤，我们都得⾛。 (2) 虚拟语⽓在⽅式状语从句中的⽤法 2024-01-31 以连接词as if引导的状语从句（谓语形式与wish后的宾语从句相同，be在第⼀、三⼈称可⽤was或 You speak as if you had really been there. 你说的好像你真的去过那⾥。', 'You speak as if you had really been there. 你说的好像你真的去过那⾥。 Light often behaves as though it were made of particles. 光的性状，常常有点⼉像由粒⼦组成的。 He spoke to me as if I was(were)deaf. 他跟我说话时就好像我是聋⼦似的。 (3) 虚拟语⽓在⽬的状语从句中的⽤法 以 lest, for fear that 和 in case 引出的状语从句（谓语多⽤ should 加动词原形构成）。如：', '他跟我说话时就好像我是聋⼦似的。 (3) 虚拟语⽓在⽬的状语从句中的⽤法 以 lest, for fear that 和 in case 引出的状语从句（谓语多⽤ should 加动词原形构成）。如： Batteries should be kept in dry places lest electricity should leak away. 电池应放在⼲燥的地⽅，以免漏电。 He handled the instrument with care for fear that it should be damaged. 他⼩⼼地弄那仪器，⽣怕把它弄坏。', \"He handled the instrument with care for fear that it should be damaged. 他⼩⼼地弄那仪器，⽣怕把它弄坏。 I'll keep a seat for you in case you should change your mind. 我给你留⼀个位⼦，说不定你会改变主意。 6. 虚拟语⽓在it is time后的定语从句中的⽤法 虚拟语⽓还可⽤在定语从句中，这种从句常⽤在it is (high, about) time (that)．．．句型中。定语从 句常⽤虚拟过去式。如： It is time we started.\", \"虚拟语⽓还可⽤在定语从句中，这种从句常⽤在it is (high, about) time (that)．．．句型中。定语从 句常⽤虚拟过去式。如： It is time we started. It is time we set to work. 2024-01-31 虚拟语⽓在从句中的⽤法.md It is time we left. It is time we should leave. It is time I were off. It's high time the weather improved. 但要注意：位于time之前的high起着强调“ 为时稍晚” 的作⽤。\"]\n",
      "28\n"
     ]
    }
   ],
   "source": [
    "from nltk.tokenize import sent_tokenize\n",
    "import json\n",
    "\n",
    "from pdfminer.high_level import extract_pages\n",
    "from pdfminer.layout import LTTextContainer\n",
    "\n",
    "def extract_text_from_pdf(filename, page_numbers=None, min_line_length=1):\n",
    "    '''从 PDF 文件中（按指定页码）提取文字'''\n",
    "    paragraphs = []\n",
    "    buffer = ''\n",
    "    full_text = ''\n",
    "    # 提取全部文本\n",
    "    for i, page_layout in enumerate(extract_pages(filename)):\n",
    "        # 如果指定了页码范围，跳过范围外的页\n",
    "        if page_numbers is not None and i not in page_numbers:\n",
    "            continue\n",
    "        for element in page_layout:\n",
    "            if isinstance(element, LTTextContainer):\n",
    "                full_text += element.get_text() + '\\n'\n",
    "    # 按空行分隔，将文本重新组织成段落\n",
    "    lines = full_text.split('\\n')\n",
    "    for text in lines:\n",
    "        if len(text) >= min_line_length:\n",
    "            buffer += (' '+text) if not text.endswith('-') else text.strip('-')\n",
    "        elif buffer:\n",
    "            paragraphs.append(buffer)\n",
    "            buffer = ''\n",
    "    if buffer:\n",
    "        paragraphs.append(buffer)\n",
    "    return paragraphs\n",
    "\n",
    "import os\n",
    "from os.path import dirname, join\n",
    "current_dir = os.getcwd()\n",
    "file_path = join(current_dir, \"grammar_book/虚拟语气在从句中的用法.pdf\")\n",
    "\n",
    "paragraphs = extract_text_from_pdf(file_path, min_line_length=10)\n",
    "\n",
    "def split_text(paragraphs, chunk_size=300, overlap_size=100):\n",
    "    '''按指定 chunk_size 和 overlap_size 交叠割文本'''\n",
    "    sentences = [s.strip() for p in paragraphs for s in sent_tokenize(p)]\n",
    "    chunks = []\n",
    "    i = 0\n",
    "    while i < len(sentences):\n",
    "        chunk = sentences[i]\n",
    "        overlap = ''\n",
    "        prev_len = 0\n",
    "        prev = i - 1\n",
    "        # 向前计算重叠部分\n",
    "        while prev >= 0 and len(sentences[prev])+len(overlap) <= overlap_size:\n",
    "            overlap = sentences[prev] + ' ' + overlap\n",
    "            prev -= 1\n",
    "        chunk = overlap+chunk\n",
    "        next = i + 1\n",
    "        # 向后计算当前chunk\n",
    "        while next < len(sentences) and len(sentences[next])+len(chunk) <= chunk_size:\n",
    "            chunk = chunk + ' ' + sentences[next]\n",
    "            next += 1\n",
    "        chunks.append(chunk)\n",
    "        i = next\n",
    "    return chunks\n",
    "\n",
    "chunks = split_text(paragraphs, 300, 100)\n",
    "\n",
    "print(chunks)\n",
    "print(len(chunks))"
   ]
  },
  {
   "cell_type": "code",
   "execution_count": 21,
   "id": "52f835c3",
   "metadata": {},
   "outputs": [],
   "source": [
    "embeddings = embedding_model.encode(chunks)"
   ]
  },
  {
   "cell_type": "code",
   "execution_count": null,
   "id": "090b02fd",
   "metadata": {},
   "outputs": [],
   "source": [
    "for chunk, embedding in zip(chunks, embeddings):\n",
    "    print(\"chunk:\", chunk)\n",
    "    print(\"Embedding:\", embedding)\n",
    "    print(\"\")"
   ]
  },
  {
   "cell_type": "markdown",
   "id": "5064e646c011cfd2",
   "metadata": {
    "collapsed": false
   },
   "source": [
    "3.2 insert entities"
   ]
  },
  {
   "cell_type": "code",
   "execution_count": 24,
   "id": "b9403afae58b14d0",
   "metadata": {
    "collapsed": false
   },
   "outputs": [],
   "source": [
    "entities = [\n",
    "    [str(i) for i in range(len(embeddings))], # provide the pk field because `auto_id` is set to False\n",
    "    chunks,\n",
    "    embeddings,    # field embeddings, supports numpy.ndarray and list\n",
    "]"
   ]
  },
  {
   "cell_type": "code",
   "execution_count": 25,
   "id": "fe855daf",
   "metadata": {},
   "outputs": [],
   "source": [
    "insert_result = hello_rag_v1.insert(entities)"
   ]
  },
  {
   "cell_type": "code",
   "execution_count": null,
   "id": "df237d06",
   "metadata": {},
   "outputs": [],
   "source": [
    "# hello_rag_v1.flush()\n",
    "print(f\"Number of entities in Milvus: {hello_rag_v1.num_entities}\")  # check the num_entities"
   ]
  },
  {
   "cell_type": "markdown",
   "id": "b6ae90dc",
   "metadata": {},
   "source": [
    "### 3.3 Index\n",
    "\n",
    "We are going to create an IVF_FLAT index for hello_rag_v1 collection.\n",
    "\n",
    "create_index() can only be applied to `FloatVector` and `BinaryVector` fields."
   ]
  },
  {
   "cell_type": "code",
   "execution_count": 7,
   "id": "e0d7a084",
   "metadata": {},
   "outputs": [
    {
     "data": {
      "text/plain": [
       "Status(code=0, message=)"
      ]
     },
     "execution_count": 7,
     "metadata": {},
     "output_type": "execute_result"
    }
   ],
   "source": [
    "index = {\n",
    "    \"index_type\": \"GPU_IVF_FLAT\",\n",
    "    \"metric_type\": \"COSINE\",\n",
    "    \"params\": {\"nlist\": 128},\n",
    "}\n",
    "\n",
    "hello_rag_v1.create_index(\"embeddings\", index)"
   ]
  },
  {
   "cell_type": "markdown",
   "id": "928f3dbb9ab66f35",
   "metadata": {
    "collapsed": false
   },
   "source": [
    "4. 基于向量检索的RAG"
   ]
  },
  {
   "cell_type": "code",
   "execution_count": 8,
   "id": "9b816d33",
   "metadata": {},
   "outputs": [],
   "source": [
    "hello_rag_v1.load()"
   ]
  },
  {
   "cell_type": "code",
   "execution_count": 9,
   "id": "e1acda00",
   "metadata": {},
   "outputs": [],
   "source": [
    "search_params = {\n",
    "    \"metric_type\": \"COSINE\", \n",
    "    \"offset\": 0, \n",
    "    \"ignore_growing\": False, \n",
    "    \"params\": {\"nlist\": 128},\n",
    "}\n"
   ]
  },
  {
   "cell_type": "code",
   "execution_count": 11,
   "id": "8834a2ba",
   "metadata": {},
   "outputs": [],
   "source": [
    "user_query = \"虚拟语气应该如何在从句中使用？\"\n",
    "vectors_to_search = embedding_model.encode([user_query])"
   ]
  },
  {
   "cell_type": "code",
   "execution_count": 18,
   "id": "b9ad2eae",
   "metadata": {},
   "outputs": [],
   "source": [
    "\n",
    "result = hello_rag_v1.search(vectors_to_search, \"embeddings\", search_params, limit=3, expr=None, output_fields=[\"text\"], partition_names=None)\n"
   ]
  },
  {
   "cell_type": "code",
   "execution_count": 20,
   "id": "67e8d776",
   "metadata": {},
   "outputs": [
    {
     "data": {
      "text/plain": [
       "['3', '17', '13']"
      ]
     },
     "execution_count": 20,
     "metadata": {},
     "output_type": "execute_result"
    }
   ],
   "source": [
    "result[0].ids"
   ]
  },
  {
   "cell_type": "code",
   "execution_count": 21,
   "id": "64bbd48c",
   "metadata": {},
   "outputs": [
    {
     "data": {
      "text/plain": [
       "[0.43105536699295044, 0.4235227704048157, 0.4143679738044739]"
      ]
     },
     "execution_count": 21,
     "metadata": {},
     "output_type": "execute_result"
    }
   ],
   "source": [
    "result[0].distances"
   ]
  },
  {
   "cell_type": "code",
   "execution_count": 27,
   "id": "38a7a355",
   "metadata": {},
   "outputs": [
    {
     "data": {
      "text/plain": [
       "'希望⼀切在今晚准备好。 It was arranged that Mr Sam should go and help Bettie. 他们作了安排，由萨姆先⽣去帮助⻉蒂。 (2) 主句的谓语为某些动词的被动语态，常⽤在It is (was) desired (suggested，settled，proposed， recommended， requested，decided，etc. ) that. . . 句型中。 It is suggested that the question should be discussed at the next meeting.'"
      ]
     },
     "execution_count": 27,
     "metadata": {},
     "output_type": "execute_result"
    }
   ],
   "source": [
    "result[0][0].entity.get('text')"
   ]
  },
  {
   "cell_type": "code",
   "execution_count": 29,
   "id": "6eb8cf2366e8ebbd",
   "metadata": {
    "collapsed": false
   },
   "outputs": [],
   "source": [
    "from langchain.chains import LLMChain\n",
    "from langchain_openai import ChatOpenAI\n",
    "from langchain.prompts import PromptTemplate\n",
    "\n",
    "base_url = \"http://192.168.100.252:8000/v1/\"\n",
    "llm = ChatOpenAI(temperature=0, api_key=\"EMPTY\", base_url=base_url)"
   ]
  },
  {
   "cell_type": "code",
   "execution_count": 30,
   "id": "b45de0d8",
   "metadata": {},
   "outputs": [],
   "source": [
    "rag_template = PromptTemplate(\n",
    "    input_variables=[\"INFO\", \"QUERY\"],\n",
    "    template=\"\"\"\n",
    "你是一个问答机器人。\n",
    "你的任务是根据下述给定的已知信息回答用户问题。\n",
    "确保你的回复完全依据下述已知信息。不要编造答案。\n",
    "如果下述已知信息不足以回答用户的问题，请直接回复\"我无法回答您的问题\"。\n",
    "\n",
    "已知信息:\n",
    "{INFO}\n",
    "\n",
    "用户问：\n",
    "{QUERY}\n",
    "\n",
    "请用中文回答用户问题。\n",
    "\"\"\",\n",
    ")"
   ]
  },
  {
   "cell_type": "code",
   "execution_count": 31,
   "id": "22eefe69",
   "metadata": {},
   "outputs": [],
   "source": [
    "rag_chain = LLMChain(\n",
    "    llm=llm, prompt=rag_template\n",
    ")"
   ]
  },
  {
   "cell_type": "code",
   "execution_count": 32,
   "id": "2ead1dd9",
   "metadata": {},
   "outputs": [
    {
     "name": "stderr",
     "output_type": "stream",
     "text": [
      "huggingface/tokenizers: The current process just got forked, after parallelism has already been used. Disabling parallelism to avoid deadlocks...\n",
      "To disable this warning, you can either:\n",
      "\t- Avoid using `tokenizers` before the fork if possible\n",
      "\t- Explicitly set the environment variable TOKENIZERS_PARALLELISM=(true | false)\n"
     ]
    }
   ],
   "source": [
    "user_input = \"虚拟语气应该如何在从句中使用？\"\n",
    "output = rag_chain.invoke({\"QUERY\": user_input, \"INFO\": result[0][0].entity.get('text')})"
   ]
  },
  {
   "cell_type": "code",
   "execution_count": 33,
   "id": "7b1349b7",
   "metadata": {},
   "outputs": [
    {
     "name": "stdout",
     "output_type": "stream",
     "text": [
      "{'QUERY': '虚拟语气应该如何在从句中使用？', 'INFO': '希望⼀切在今晚准备好。 It was arranged that Mr Sam should go and help Bettie. 他们作了安排，由萨姆先⽣去帮助⻉蒂。 (2) 主句的谓语为某些动词的被动语态，常⽤在It is (was) desired (suggested，settled，proposed， recommended， requested，decided，etc. ) that. . . 句型中。 It is suggested that the question should be discussed at the next meeting.', 'text': '虚拟语气在从句中的使用方式如下：\\n1. 在从句中，如果主句是虚拟语气，那么从句通常会采用一种表示建议、要求或命令的语气。例如：It is suggested that we should visit Japan next year.（我们建议明年去日本。）\\n2. 如果主句不是虚拟语气，那么从句可能会采用一种表示事实或事实的建议语气。例如：I think it is time for us to move out.（我认为我们应该搬走了。）\\n3. 在从句中，虚拟语气常常使用should + 动词原形的结构。例如：You should always follow the rules.（你应该始终遵守规则。）'}\n"
     ]
    }
   ],
   "source": [
    "print(output)"
   ]
  },
  {
   "cell_type": "code",
   "execution_count": 34,
   "id": "e82e0669",
   "metadata": {},
   "outputs": [
    {
     "name": "stdout",
     "output_type": "stream",
     "text": [
      "<class 'dict'>\n"
     ]
    }
   ],
   "source": [
    "print(type(output))"
   ]
  },
  {
   "cell_type": "code",
   "execution_count": 35,
   "id": "7b587330",
   "metadata": {},
   "outputs": [
    {
     "name": "stdout",
     "output_type": "stream",
     "text": [
      "虚拟语气在从句中的使用方式如下：\n",
      "1. 在从句中，如果主句是虚拟语气，那么从句通常会采用一种表示建议、要求或命令的语气。例如：It is suggested that we should visit Japan next year.（我们建议明年去日本。）\n",
      "2. 如果主句不是虚拟语气，那么从句可能会采用一种表示事实或事实的建议语气。例如：I think it is time for us to move out.（我认为我们应该搬走了。）\n",
      "3. 在从句中，虚拟语气常常使用should + 动词原形的结构。例如：You should always follow the rules.（你应该始终遵守规则。）\n"
     ]
    }
   ],
   "source": [
    "print(output['text'])"
   ]
  },
  {
   "cell_type": "code",
   "execution_count": 38,
   "id": "7e748f38",
   "metadata": {},
   "outputs": [
    {
     "name": "stdout",
     "output_type": "stream",
     "text": [
      "虚拟语气是在句子中表达一种与事实相反或者假设的情况，通常用于表示说话者对某种情况的真实性、可能性或期望的语气。在从句中使用虚拟语气时，需要根据具体情况进行调整。\n",
      "\n",
      "以下是一些在从句中使用虚拟语气的例子：\n",
      "\n",
      "1. 如果条件成立，我就会接受这个邀请。（如果条件成立，这里表示一种假设情况）\n",
      "2. 如果你觉得这个决定很明智，那么我就同意了。（如果你觉得这个决定很明智，这里表示一种依赖于他人意见的情况）\n",
      "3. 她告诉我她已经准备好参加这场比赛了。（她告诉我她已经准备好参加这场比赛了，这里表示一种说话者对他人行动的期望或建议）\n",
      "\n",
      "总之，在使用虚拟语气时，需要注意时态、情态动词和语气词的使用，以及根据具体情况调整语气。\n"
     ]
    }
   ],
   "source": [
    "from langchain.chains import LLMChain\n",
    "from langchain_openai import ChatOpenAI\n",
    "from langchain.prompts import PromptTemplate\n",
    "\n",
    "# base_url = \"http://192.168.100.252:8000/v1/\"\n",
    "# llm = ChatOpenAI(temperature=0, api_key=\"EMPTY\", base_url=base_url)\n",
    "\n",
    "simple_template = PromptTemplate(\n",
    "    input_variables=[\"QUERY\"],\n",
    "    template=\"\"\"\n",
    "你是一个问答机器人。\n",
    "你的任务是回答用户问题。\n",
    "\n",
    "用户问：\n",
    "{QUERY}\n",
    "\n",
    "请用中文回答用户问题。\n",
    "\"\"\",\n",
    ")\n",
    "\n",
    "simple_chain = LLMChain(\n",
    "    llm=llm, prompt=simple_template\n",
    ")\n",
    "\n",
    "user_input = \"虚拟语气应该如何在从句中使用？\"\n",
    "output = simple_chain.invoke({\"QUERY\": user_input})\n",
    "print(output['text'])"
   ]
  },
  {
   "cell_type": "code",
   "execution_count": null,
   "id": "4635cb98",
   "metadata": {},
   "outputs": [],
   "source": []
  }
 ],
 "metadata": {
  "kernelspec": {
   "display_name": "Python 3",
   "language": "python",
   "name": "python3"
  },
  "language_info": {
   "codemirror_mode": {
    "name": "ipython",
    "version": 3
   },
   "file_extension": ".py",
   "mimetype": "text/x-python",
   "name": "python",
   "nbconvert_exporter": "python",
   "pygments_lexer": "ipython3",
   "version": "3.9.18"
  }
 },
 "nbformat": 4,
 "nbformat_minor": 5
}
